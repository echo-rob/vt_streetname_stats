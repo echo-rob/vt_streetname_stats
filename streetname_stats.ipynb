{
 "cells": [
  {
   "cell_type": "markdown",
   "metadata": {},
   "source": [
    "IMPORTS "
   ]
  },
  {
   "cell_type": "code",
   "execution_count": null,
   "metadata": {},
   "outputs": [],
   "source": [
    "import requests\n",
    "import pandas\n",
    "import getpass\n",
    "import json\n",
    "import re"
   ]
  },
  {
   "cell_type": "markdown",
   "metadata": {},
   "source": [
    "CONFIG"
   ]
  },
  {
   "cell_type": "code",
   "execution_count": null,
   "metadata": {},
   "outputs": [],
   "source": [
    "VT_DOMAIN = 'https://virustotal.com'\n",
    "VT_API_VER = '/api/v3'\n",
    "VT_FILES = '/files/{}'"
   ]
  },
  {
   "cell_type": "markdown",
   "metadata": {},
   "source": [
    "SAMPLES"
   ]
  },
  {
   "cell_type": "code",
   "execution_count": null,
   "metadata": {},
   "outputs": [],
   "source": [
    "# zeus \n",
    "sample_hash = '15136D615297C16D1FED67F2A8C11C37'"
   ]
  },
  {
   "cell_type": "markdown",
   "metadata": {},
   "source": [
    "Get API key"
   ]
  },
  {
   "cell_type": "code",
   "execution_count": null,
   "metadata": {},
   "outputs": [],
   "source": [
    "vt_key = getpass.getpass('Enter API key: [input hidden]')"
   ]
  },
  {
   "cell_type": "markdown",
   "metadata": {},
   "source": [
    "Enter hash to query for"
   ]
  },
  {
   "cell_type": "code",
   "execution_count": null,
   "metadata": {},
   "outputs": [],
   "source": [
    "sample_hash = input('Enter hash:')"
   ]
  },
  {
   "cell_type": "markdown",
   "metadata": {},
   "source": [
    "Submit request to VT"
   ]
  },
  {
   "cell_type": "code",
   "execution_count": null,
   "metadata": {},
   "outputs": [],
   "source": [
    "#create url \n",
    "url = VT_DOMAIN + VT_API_VER + VT_FILES.format(sample_hash)\n",
    "#print(url)\n",
    "\n",
    "#create header\n",
    "header = {\n",
    "    \"x-apikey\":vt_key\n",
    "}\n",
    "\n",
    "req = requests.request(\"GET\", url, headers=header, params=body)\n",
    "\n",
    "if req.status_code != 200:\n",
    "    raise Exception(\"ERROR. Request returned a non-200 response of {}\".format(req.status_code))\n",
    "else:\n",
    "    print(\"Success\")"
   ]
  },
  {
   "cell_type": "markdown",
   "metadata": {},
   "source": [
    "Get the AV results from the response "
   ]
  },
  {
   "cell_type": "code",
   "execution_count": null,
   "metadata": {},
   "outputs": [],
   "source": [
    "av_results = req['data']['attributes']['last_analysis_results']"
   ]
  },
  {
   "cell_type": "markdown",
   "metadata": {},
   "source": [
    "From each AV vendor, get the street name "
   ]
  },
  {
   "cell_type": "code",
   "execution_count": null,
   "metadata": {},
   "outputs": [],
   "source": [
    "street_names=[]\n",
    "\n",
    "for vendor,results in av_results.items():\n",
    "    \n",
    "    #remove Nones that do not show up as NoneType \n",
    "    if isinstance(results['result'], str):\n",
    "        street_names.append(results['result'])\n",
    "   "
   ]
  },
  {
   "cell_type": "markdown",
   "metadata": {},
   "source": [
    "Continue to filter the data"
   ]
  },
  {
   "cell_type": "code",
   "execution_count": null,
   "metadata": {},
   "outputs": [],
   "source": [
    "keywords = []\n",
    "\n",
    "#gets rid of most useless chars \n",
    "for sn in street_names:\n",
    "    matches = re.findall(r'(\\w+)', sn)\n",
    "    \n",
    "    #further filter\n",
    "    for m in matches:\n",
    "        if len(m) >2:\n",
    "            keywords.append(m.lower())"
   ]
  },
  {
   "cell_type": "markdown",
   "metadata": {},
   "source": [
    "Create dataframe for additional stats work"
   ]
  },
  {
   "cell_type": "code",
   "execution_count": null,
   "metadata": {},
   "outputs": [],
   "source": [
    "#create dataframe for additional stats work\n",
    "dataframe = pandas.DataFrame(keywords, columns=[\"keyword\"])"
   ]
  },
  {
   "cell_type": "markdown",
   "metadata": {},
   "source": [
    "Show top 10 most common keywords"
   ]
  },
  {
   "cell_type": "code",
   "execution_count": null,
   "metadata": {},
   "outputs": [],
   "source": [
    "dataframe[\"keyword\"].value_counts().nlargest(10)"
   ]
  }
 ],
 "metadata": {
  "kernelspec": {
   "display_name": "Python 3",
   "language": "python",
   "name": "python3"
  },
  "language_info": {
   "codemirror_mode": {
    "name": "ipython",
    "version": 3
   },
   "file_extension": ".py",
   "mimetype": "text/x-python",
   "name": "python",
   "nbconvert_exporter": "python",
   "pygments_lexer": "ipython3",
   "version": "3.6.9"
  }
 },
 "nbformat": 4,
 "nbformat_minor": 4
}
